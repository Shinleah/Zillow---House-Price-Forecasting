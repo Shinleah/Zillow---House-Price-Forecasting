{
 "cells": [
  {
   "attachments": {},
   "cell_type": "markdown",
   "metadata": {},
   "source": [
    "### <h1>Zillow Town Prediction based on Housing Sale Record<h1>\n",
    "\n",
    "Author: Leah Shin \n",
    "\n",
    "Date Created: 1/27/2023\n",
    "\n",
    "Data on about 11,000 homes sold in a single year are extracted from Zillow for 50 campus towns in the U.S. (https://www.zillow.com). The House_Prices data represent a highly simplified/modified sample of anonymized homes, excluding homes with observations that seem erroneous and/or not pertaining to sales."
   ]
  },
  {
   "attachments": {},
   "cell_type": "markdown",
   "metadata": {},
   "source": [
    "### STEP 1"
   ]
  },
  {
   "attachments": {},
   "cell_type": "markdown",
   "metadata": {},
   "source": [
    "1. How many rows and columns are there?"
   ]
  },
  {
   "cell_type": "code",
   "execution_count": 4,
   "metadata": {},
   "outputs": [
    {
     "data": {
      "text/html": [
       "<div>\n",
       "<style scoped>\n",
       "    .dataframe tbody tr th:only-of-type {\n",
       "        vertical-align: middle;\n",
       "    }\n",
       "\n",
       "    .dataframe tbody tr th {\n",
       "        vertical-align: top;\n",
       "    }\n",
       "\n",
       "    .dataframe thead th {\n",
       "        text-align: right;\n",
       "    }\n",
       "</style>\n",
       "<table border=\"1\" class=\"dataframe\">\n",
       "  <thead>\n",
       "    <tr style=\"text-align: right;\">\n",
       "      <th></th>\n",
       "      <th>Unnamed: 0</th>\n",
       "      <th>Record</th>\n",
       "      <th>Sale_amount</th>\n",
       "      <th>Sale_date</th>\n",
       "      <th>Beds</th>\n",
       "      <th>Baths</th>\n",
       "      <th>Sqft_home</th>\n",
       "      <th>Sqft_lot</th>\n",
       "      <th>Type</th>\n",
       "      <th>Build_year</th>\n",
       "      <th>Town</th>\n",
       "      <th>University</th>\n",
       "      <th>Type2</th>\n",
       "    </tr>\n",
       "  </thead>\n",
       "  <tbody>\n",
       "    <tr>\n",
       "      <th>0</th>\n",
       "      <td>1</td>\n",
       "      <td>1</td>\n",
       "      <td>295000.0</td>\n",
       "      <td>42521</td>\n",
       "      <td>5</td>\n",
       "      <td>3.00</td>\n",
       "      <td>2020</td>\n",
       "      <td>38332.8</td>\n",
       "      <td>3</td>\n",
       "      <td>1976</td>\n",
       "      <td>1</td>\n",
       "      <td>10</td>\n",
       "      <td>3</td>\n",
       "    </tr>\n",
       "    <tr>\n",
       "      <th>1</th>\n",
       "      <td>2</td>\n",
       "      <td>2</td>\n",
       "      <td>240000.0</td>\n",
       "      <td>42541</td>\n",
       "      <td>4</td>\n",
       "      <td>2.00</td>\n",
       "      <td>1498</td>\n",
       "      <td>54014.4</td>\n",
       "      <td>3</td>\n",
       "      <td>2002</td>\n",
       "      <td>1</td>\n",
       "      <td>10</td>\n",
       "      <td>3</td>\n",
       "    </tr>\n",
       "    <tr>\n",
       "      <th>2</th>\n",
       "      <td>3</td>\n",
       "      <td>3</td>\n",
       "      <td>385000.0</td>\n",
       "      <td>42521</td>\n",
       "      <td>5</td>\n",
       "      <td>4.00</td>\n",
       "      <td>4000</td>\n",
       "      <td>85813.2</td>\n",
       "      <td>3</td>\n",
       "      <td>2001</td>\n",
       "      <td>1</td>\n",
       "      <td>10</td>\n",
       "      <td>3</td>\n",
       "    </tr>\n",
       "    <tr>\n",
       "      <th>3</th>\n",
       "      <td>4</td>\n",
       "      <td>4</td>\n",
       "      <td>268000.0</td>\n",
       "      <td>42472</td>\n",
       "      <td>3</td>\n",
       "      <td>2.50</td>\n",
       "      <td>2283</td>\n",
       "      <td>118918.8</td>\n",
       "      <td>3</td>\n",
       "      <td>1972</td>\n",
       "      <td>1</td>\n",
       "      <td>10</td>\n",
       "      <td>3</td>\n",
       "    </tr>\n",
       "    <tr>\n",
       "      <th>4</th>\n",
       "      <td>5</td>\n",
       "      <td>5</td>\n",
       "      <td>186000.0</td>\n",
       "      <td>42465</td>\n",
       "      <td>3</td>\n",
       "      <td>1.25</td>\n",
       "      <td>1527</td>\n",
       "      <td>15681.6</td>\n",
       "      <td>3</td>\n",
       "      <td>1975</td>\n",
       "      <td>1</td>\n",
       "      <td>10</td>\n",
       "      <td>3</td>\n",
       "    </tr>\n",
       "  </tbody>\n",
       "</table>\n",
       "</div>"
      ],
      "text/plain": [
       "   Unnamed: 0  Record  Sale_amount  Sale_date  Beds  Baths  Sqft_home  \\\n",
       "0           1       1     295000.0      42521     5   3.00       2020   \n",
       "1           2       2     240000.0      42541     4   2.00       1498   \n",
       "2           3       3     385000.0      42521     5   4.00       4000   \n",
       "3           4       4     268000.0      42472     3   2.50       2283   \n",
       "4           5       5     186000.0      42465     3   1.25       1527   \n",
       "\n",
       "   Sqft_lot  Type  Build_year  Town  University  Type2  \n",
       "0   38332.8     3        1976     1          10      3  \n",
       "1   54014.4     3        2002     1          10      3  \n",
       "2   85813.2     3        2001     1          10      3  \n",
       "3  118918.8     3        1972     1          10      3  \n",
       "4   15681.6     3        1975     1          10      3  "
      ]
     },
     "execution_count": 4,
     "metadata": {},
     "output_type": "execute_result"
    }
   ],
   "source": [
    "import pandas as pd\n",
    "from sklearn.model_selection import train_test_split\n",
    "from sklearn.model_selection import cross_val_score\n",
    "from sklearn.ensemble import RandomForestClassifier\n",
    "from sklearn.metrics import accuracy_score\n",
    "from sklearn.model_selection import GridSearchCV\n",
    "\n",
    "#Read csv file in pandas dataframe and print first 5 rows.\n",
    "Data =  pd.read_csv('House_Prices.csv')\n",
    "Data.head()"
   ]
  },
  {
   "attachments": {},
   "cell_type": "markdown",
   "metadata": {},
   "source": [
    "2. Looks like there are some extra columns with row markers that appeared over the cleaning process.  How many \"actual\" columns are there?"
   ]
  },
  {
   "cell_type": "code",
   "execution_count": 5,
   "metadata": {},
   "outputs": [
    {
     "name": "stdout",
     "output_type": "stream",
     "text": [
      "10659\n",
      "11\n"
     ]
    }
   ],
   "source": [
    "Data=Data.drop(['Unnamed: 0', 'Type2'], axis=1)\n",
    "print(len(Data.index))\n",
    "print(len(Data.columns))"
   ]
  },
  {
   "attachments": {},
   "cell_type": "markdown",
   "metadata": {},
   "source": [
    "Seems like there is column that does not contain useful information: `Unnamed`,`type2`.  I will go ahead and remove those columns. \n",
    "After cleaning columns, I have 10659 rows and 11 actual columns that I can use for my model."
   ]
  },
  {
   "cell_type": "code",
   "execution_count": 6,
   "metadata": {},
   "outputs": [
    {
     "name": "stdout",
     "output_type": "stream",
     "text": [
      "<class 'pandas.core.frame.DataFrame'>\n",
      "RangeIndex: 10659 entries, 0 to 10658\n",
      "Data columns (total 11 columns):\n",
      " #   Column       Non-Null Count  Dtype  \n",
      "---  ------       --------------  -----  \n",
      " 0   Record       10659 non-null  int64  \n",
      " 1   Sale_amount  10659 non-null  float64\n",
      " 2   Sale_date    10659 non-null  int64  \n",
      " 3   Beds         10659 non-null  int64  \n",
      " 4   Baths        10659 non-null  float64\n",
      " 5   Sqft_home    10659 non-null  int64  \n",
      " 6   Sqft_lot     10659 non-null  float64\n",
      " 7   Type         10659 non-null  int64  \n",
      " 8   Build_year   10659 non-null  int64  \n",
      " 9   Town         10659 non-null  int64  \n",
      " 10  University   10659 non-null  int64  \n",
      "dtypes: float64(3), int64(8)\n",
      "memory usage: 916.1 KB\n"
     ]
    }
   ],
   "source": [
    "Data.info()"
   ]
  },
  {
   "attachments": {},
   "cell_type": "markdown",
   "metadata": {},
   "source": [
    "Seems like the `Sale_date` is not formated as datetime. Normally this happens when the user do not specify the format. Since we already know Lee's number format of the date, we do not need to change the format."
   ]
  },
  {
   "attachments": {},
   "cell_type": "markdown",
   "metadata": {},
   "source": [
    "### STEP 2"
   ]
  },
  {
   "attachments": {},
   "cell_type": "markdown",
   "metadata": {},
   "source": [
    "Now I will be using classification model for the analysis. Before creating X and Y for the model, I will be cleaning some columns such as `Record` and `University` column."
   ]
  },
  {
   "attachments": {},
   "cell_type": "markdown",
   "metadata": {},
   "source": [
    "1. Before creating X and Y for the model, Since I am going to predict the town and including the closest university would make the test too easy, I will remove `University` column, and any record IDs."
   ]
  },
  {
   "cell_type": "code",
   "execution_count": 7,
   "metadata": {},
   "outputs": [
    {
     "data": {
      "text/html": [
       "<div>\n",
       "<style scoped>\n",
       "    .dataframe tbody tr th:only-of-type {\n",
       "        vertical-align: middle;\n",
       "    }\n",
       "\n",
       "    .dataframe tbody tr th {\n",
       "        vertical-align: top;\n",
       "    }\n",
       "\n",
       "    .dataframe thead th {\n",
       "        text-align: right;\n",
       "    }\n",
       "</style>\n",
       "<table border=\"1\" class=\"dataframe\">\n",
       "  <thead>\n",
       "    <tr style=\"text-align: right;\">\n",
       "      <th></th>\n",
       "      <th>Sale_amount</th>\n",
       "      <th>Sale_date</th>\n",
       "      <th>Beds</th>\n",
       "      <th>Baths</th>\n",
       "      <th>Sqft_home</th>\n",
       "      <th>Sqft_lot</th>\n",
       "      <th>Type</th>\n",
       "      <th>Build_year</th>\n",
       "      <th>Town</th>\n",
       "    </tr>\n",
       "  </thead>\n",
       "  <tbody>\n",
       "    <tr>\n",
       "      <th>0</th>\n",
       "      <td>295000.0</td>\n",
       "      <td>42521</td>\n",
       "      <td>5</td>\n",
       "      <td>3.00</td>\n",
       "      <td>2020</td>\n",
       "      <td>38332.8</td>\n",
       "      <td>3</td>\n",
       "      <td>1976</td>\n",
       "      <td>1</td>\n",
       "    </tr>\n",
       "    <tr>\n",
       "      <th>1</th>\n",
       "      <td>240000.0</td>\n",
       "      <td>42541</td>\n",
       "      <td>4</td>\n",
       "      <td>2.00</td>\n",
       "      <td>1498</td>\n",
       "      <td>54014.4</td>\n",
       "      <td>3</td>\n",
       "      <td>2002</td>\n",
       "      <td>1</td>\n",
       "    </tr>\n",
       "    <tr>\n",
       "      <th>2</th>\n",
       "      <td>385000.0</td>\n",
       "      <td>42521</td>\n",
       "      <td>5</td>\n",
       "      <td>4.00</td>\n",
       "      <td>4000</td>\n",
       "      <td>85813.2</td>\n",
       "      <td>3</td>\n",
       "      <td>2001</td>\n",
       "      <td>1</td>\n",
       "    </tr>\n",
       "    <tr>\n",
       "      <th>3</th>\n",
       "      <td>268000.0</td>\n",
       "      <td>42472</td>\n",
       "      <td>3</td>\n",
       "      <td>2.50</td>\n",
       "      <td>2283</td>\n",
       "      <td>118918.8</td>\n",
       "      <td>3</td>\n",
       "      <td>1972</td>\n",
       "      <td>1</td>\n",
       "    </tr>\n",
       "    <tr>\n",
       "      <th>4</th>\n",
       "      <td>186000.0</td>\n",
       "      <td>42465</td>\n",
       "      <td>3</td>\n",
       "      <td>1.25</td>\n",
       "      <td>1527</td>\n",
       "      <td>15681.6</td>\n",
       "      <td>3</td>\n",
       "      <td>1975</td>\n",
       "      <td>1</td>\n",
       "    </tr>\n",
       "  </tbody>\n",
       "</table>\n",
       "</div>"
      ],
      "text/plain": [
       "   Sale_amount  Sale_date  Beds  Baths  Sqft_home  Sqft_lot  Type  Build_year  \\\n",
       "0     295000.0      42521     5   3.00       2020   38332.8     3        1976   \n",
       "1     240000.0      42541     4   2.00       1498   54014.4     3        2002   \n",
       "2     385000.0      42521     5   4.00       4000   85813.2     3        2001   \n",
       "3     268000.0      42472     3   2.50       2283  118918.8     3        1972   \n",
       "4     186000.0      42465     3   1.25       1527   15681.6     3        1975   \n",
       "\n",
       "   Town  \n",
       "0     1  \n",
       "1     1  \n",
       "2     1  \n",
       "3     1  \n",
       "4     1  "
      ]
     },
     "execution_count": 7,
     "metadata": {},
     "output_type": "execute_result"
    }
   ],
   "source": [
    "Data = Data.drop(['Record','University'], axis=1)\n",
    "Data.head()"
   ]
  },
  {
   "attachments": {},
   "cell_type": "markdown",
   "metadata": {},
   "source": [
    "Next, I will create X and Y for the model. "
   ]
  },
  {
   "cell_type": "code",
   "execution_count": 8,
   "metadata": {},
   "outputs": [],
   "source": [
    "X = Data.drop(['Town'],axis=1)\n",
    "Y = Data[['Town']]"
   ]
  },
  {
   "attachments": {},
   "cell_type": "markdown",
   "metadata": {},
   "source": [
    "\n",
    "2. Now, Split to a Training, Test set and choose the model."
   ]
  },
  {
   "cell_type": "code",
   "execution_count": 9,
   "metadata": {},
   "outputs": [],
   "source": [
    "X_train, X_test, Y_train, Y_test = train_test_split(X, Y, test_size=0.2)\n",
    "\n",
    "# Initialize the Random Forest Classifier\n",
    "model = RandomForestClassifier()\n"
   ]
  },
  {
   "attachments": {},
   "cell_type": "markdown",
   "metadata": {},
   "source": [
    "I decided to use RandomForest due to following reasons:\n",
    "\n",
    "* Perform both regression and classification tasks. \n",
    "* Produces good predictions that can be understood easily. \n",
    "* Can handle large datasets efficiently.\n",
    "* Algorithm provides a higher level of accuracy in predicting outcomes over the decision tree algorithm.\n"
   ]
  },
  {
   "attachments": {},
   "cell_type": "markdown",
   "metadata": {},
   "source": [
    "3. Grid Search CV is a great method to find the optimal hyperparameters."
   ]
  },
  {
   "cell_type": "code",
   "execution_count": 10,
   "metadata": {},
   "outputs": [
    {
     "data": {
      "text/plain": [
       "GridSearchCV(cv=5, estimator=RandomForestClassifier(),\n",
       "             param_grid={'max_depth': [5, 10, 15, 20],\n",
       "                         'n_estimators': [10, 50, 100, 200]})"
      ]
     },
     "execution_count": 10,
     "metadata": {},
     "output_type": "execute_result"
    }
   ],
   "source": [
    "# Define the hyperparameters to be searched\n",
    "param_grid = {\n",
    "    'n_estimators': [10, 50, 100, 200],\n",
    "    'max_depth': [5, 10, 15, 20]\n",
    "}\n",
    "\n",
    "# Use grid search to find the optimal hyperparameters\n",
    "grid_search = GridSearchCV(model, param_grid, cv=5)\n",
    "grid_search.fit(X_train, Y_train.values.ravel())"
   ]
  },
  {
   "attachments": {},
   "cell_type": "markdown",
   "metadata": {},
   "source": [
    "4. Also, I will be using Cross-Validation to keep the Test data clean and hoose one best model to use for test set. (`accracy_score()` will be used to pick a good model.)"
   ]
  },
  {
   "cell_type": "code",
   "execution_count": 11,
   "metadata": {},
   "outputs": [],
   "source": [
    "# Use cross-validation to keep the test data clean\n",
    "scores = cross_val_score(grid_search.best_estimator_, X_train, Y_train.values.ravel(), cv=5)\n",
    "\n",
    "# Train the model using the training set\n",
    "grid_search.best_estimator_.fit(X_train, Y_train.values.ravel())\n",
    "\n",
    "# Use accuracy score to evaluate the model\n",
    "train_acc = accuracy_score(Y_train, grid_search.best_estimator_.predict(X_train))\n",
    "test_acc = accuracy_score(Y_test, grid_search.best_estimator_.predict(X_test))\n"
   ]
  },
  {
   "attachments": {},
   "cell_type": "markdown",
   "metadata": {},
   "source": [
    "6. Next, I will ask it to show me the answer and explain/present the findings. "
   ]
  },
  {
   "cell_type": "code",
   "execution_count": 12,
   "metadata": {},
   "outputs": [
    {
     "name": "stdout",
     "output_type": "stream",
     "text": [
      "Train accuracy: 0.9861616043157031\n",
      "Test accuracy: 0.399624765478424\n",
      "Best hyperparameters: {'max_depth': 15, 'n_estimators': 200}\n",
      "The testing accuracy is lower than the training accuracy.\n",
      "This could be due to overfitting, where the model is too complex and fits the training data too well.\n"
     ]
    }
   ],
   "source": [
    "\n",
    "# Present the findings\n",
    "print(\"Train accuracy:\", train_acc)\n",
    "print(\"Test accuracy:\", test_acc)\n",
    "print(\"Best hyperparameters:\", grid_search.best_params_)\n",
    "\n",
    "if test_acc < train_acc:\n",
    "    print(\"The testing accuracy is lower than the training accuracy.\")\n",
    "    print(\"This could be due to overfitting, where the model is too complex and fits the training data too well.\")\n",
    "else:\n",
    "    print(\"The testing accuracy is equal to or higher than the training accuracy.\")"
   ]
  },
  {
   "attachments": {},
   "cell_type": "markdown",
   "metadata": {},
   "source": [
    "7. Lets try to do some prediction to see if it the model works well. \n",
    "\n",
    "\n",
    "* Lee purchased a 1,450 sq ft Single Family home (coded as 1) on 2018-04-11, (43201) for $350,000.  The house has 3 bedrooms and 2 baths.  It was built in 1992, and is on a 40,000 square foot lot.  What town it will be located?"
   ]
  },
  {
   "cell_type": "code",
   "execution_count": 13,
   "metadata": {},
   "outputs": [
    {
     "name": "stdout",
     "output_type": "stream",
     "text": [
      "The predicted town is: 43\n"
     ]
    }
   ],
   "source": [
    "property = pd.DataFrame({\n",
    "\n",
    "    'Sale_amount': [3500000],\n",
    "    'Sale_date':[43201],\n",
    "    'Beds': [3],\n",
    "    'Baths': [2],\n",
    "    'Sqft_home': [1450],\n",
    "    'Sqft_lot': [40000],\n",
    "    'Type': [3],\n",
    "    'Build_year': [1992],\n",
    "})\n",
    "\n",
    "# Use the predict method of the trained model to predict the town\n",
    "prediction = grid_search.best_estimator_.predict(property)\n",
    "\n",
    "# The prediction will be an array with one element, the predicted town\n",
    "print(\"The predicted town is:\", prediction[0])"
   ]
  }
 ],
 "metadata": {
  "kernelspec": {
   "display_name": "base",
   "language": "python",
   "name": "python3"
  },
  "language_info": {
   "codemirror_mode": {
    "name": "ipython",
    "version": 3
   },
   "file_extension": ".py",
   "mimetype": "text/x-python",
   "name": "python",
   "nbconvert_exporter": "python",
   "pygments_lexer": "ipython3",
   "version": "3.9.12"
  },
  "orig_nbformat": 4,
  "vscode": {
   "interpreter": {
    "hash": "a077222d77dfe082b8f1dd562ad70e458ac2ab76993a0b248ab0476e32e9e8dd"
   }
  }
 },
 "nbformat": 4,
 "nbformat_minor": 2
}
